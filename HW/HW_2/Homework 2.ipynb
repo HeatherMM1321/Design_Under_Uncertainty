{
 "cells": [
  {
   "cell_type": "markdown",
   "metadata": {},
   "source": [
    "Motor Design Problem /\n",
    "Heather Miller /\n",
    "Started: 4/22/20"
   ]
  },
  {
   "cell_type": "code",
   "execution_count": 3,
   "metadata": {},
   "outputs": [],
   "source": [
    "import numpy as np\n",
    "from scipy.stats import norm"
   ]
  },
  {
   "cell_type": "markdown",
   "metadata": {},
   "source": [
    "Motor Design problem : weight of motor must be <22kgs"
   ]
  },
  {
   "cell_type": "code",
   "execution_count": 23,
   "metadata": {},
   "outputs": [],
   "source": [
    "# answers for each part will be stored here\n",
    "success_probabilities = []\n",
    "\n",
    "# number of samples to run\n",
    "samples = 100000\n",
    "\n",
    "#limit in kgs\n",
    "limit = 22 "
   ]
  },
  {
   "cell_type": "markdown",
   "metadata": {},
   "source": [
    "Given Constraints "
   ]
  },
  {
   "cell_type": "code",
   "execution_count": 24,
   "metadata": {},
   "outputs": [],
   "source": [
    "# Motor Design Variables\n",
    "Lwa = 14.12  # armature wire length (m)\n",
    "Lwf = 309.45  # field wire length (m)\n",
    "ds = 0.00612  # slot depth (m)\n",
    "\n",
    "# Coupling Variables b, shared with control problem\n",
    "n = 122  # rotational speed (rev/s)\n",
    "v = 40  # design voltage (V)\n",
    "pmin = 3.94  # minimum required power (kW)\n",
    "ymin = 5.12e-3  # minimum required torque (kNm)\n",
    "\n",
    "# Parameter Vector a (constants)\n",
    "fi = 0.7  # pole arc to pole pitch ratio\n",
    "p = 2  # number of poles\n",
    "s = 27  # number of slots (teeth on rotor)\n",
    "rho = 1.8e-8  # resistivity (ohm-m) of copper at 25C\n",
    "\n",
    "# Derived parameters and constants\n",
    "mu0 = 4 * np.pi * 1e-7  # magnetic constant\n",
    "ap = p  # parallel circuit paths (equals poles)\n",
    "eff = 0.85  # efficiency\n",
    "bfc = 40e-3  # pole depth (m)\n",
    "fcf = 0.55  # field coil spacing factor\n",
    "Awa = 2.0074e-006  # cross sectional area of armature winding (m^2)\n",
    "Awf = 0.2749e-6  # cross sectional area of field coil winding (m^2)"
   ]
  },
  {
   "cell_type": "markdown",
   "metadata": {},
   "source": [
    "Functions used in this code \n"
   ]
  },
  {
   "cell_type": "code",
   "execution_count": 25,
   "metadata": {},
   "outputs": [],
   "source": [
    "def calculate_weight(diameter, length, rho_cu, rho_fe):\n",
    "    # calculate the weight of the motor\n",
    "    weight = rho_cu * (Awa*Lwa + Awf*Lwf) + rho_fe * length * np.pi * pow(diameter + ds, 2)\n",
    "    return weight\n",
    "\n",
    "def prob_success_mc(weights, limit):\n",
    "    # determine the probability of success that the weight of engine will be less than a limit\n",
    "    # add 1 to limit_sum every time weight is under limit weight\n",
    "    x = len(weights)\n",
    "    limit_sum = 0\n",
    "    for i in weights:\n",
    "        if i < limit:\n",
    "            limit_sum += 1\n",
    "    return limit_sum/x\n",
    "\n",
    "\n",
    "def first_derivative(variable_dict, variable_of_interest):\n",
    "    # calculate the first derivatives of each of the variables\n",
    "    h = 0.1 * variable_dict[variable_of_interest][1]\n",
    "    # inputs [diameter, length, rho_cu, rho_fe]\n",
    "    inputs = []\n",
    "    # this loop will put two values into input for each value, if the variable selected matches the key it will\n",
    "    # modify those values with h otherwise both inputs will be the same\n",
    "    for key in variable_dict:\n",
    "        if key == variable_of_interest:\n",
    "            inputs.append([variable_dict[key][0] + h, variable_dict[key][0] - h])\n",
    "        else:\n",
    "            inputs.append([variable_dict[key][0], variable_dict[key][0]])\n",
    "    # calculate the first derivative with the values in the input\n",
    "    first_d = (calculate_weight(inputs[0][0], inputs[1][0], inputs[2][0], inputs[3][0]) -\n",
    "               calculate_weight(inputs[0][1], inputs[1][1], inputs[2][1], inputs[3][1]))/2*h\n",
    "    return first_d\n",
    "\n",
    "def calculate_sigma(variable_sigmas, variable_derivatives, correlation_matrix):\n",
    "    # calculate the sigma of the function\n",
    "    sigma_squared = 0\n",
    "    for i in range(len(variable_derivatives)):\n",
    "        for j in range(len(variable_derivatives)):\n",
    "            sigma_squared += variable_derivatives[i] * variable_derivatives[j] * correlation_matrix[i][j] \\\n",
    "                             * variable_sigmas[i] * variable_sigmas[j]\n",
    "    return np.sqrt(sigma_squared)\n"
   ]
  },
  {
   "cell_type": "markdown",
   "metadata": {},
   "source": [
    "# Using Monte Carlo and Normal Distribution\n",
    "   * D~N(7.5, 0.5) %m rotor diameter\n",
    "   * L~N(9.5, 0.5) %m rotor axial length\n",
    "   * dcu~N(8.94e3, 100) %copper density density at 25C (kg/m^3)\n",
    "   * dfe~N(7.98e3, 100) %iron density density at 25C (kg/m^3)"
   ]
  },
  {
   "cell_type": "code",
   "execution_count": 26,
   "metadata": {},
   "outputs": [],
   "source": [
    "d_n = np.random.normal(0.075, 0.005, samples)  # rotor diameter (cm)\n",
    "l_n = np.random.normal(0.095, 0.005, samples)  # rotor axial length (cm)\n",
    "rho_cu_n = np.random.normal(8.94e3, 100, samples)  # copper density density at 25C (kg/m^3)\n",
    "rho_fe_n = np.random.normal(7.98e3, 100, samples)  # iron density density at 25C (kg/m^3)\n",
    "weight_p1 = [calculate_weight(d_n[i], l_n[i], rho_cu_n[i], rho_fe_n[i]) for i in range(samples)]\n",
    "success_probabilities.append(prob_success_mc(weight_p1, limit))"
   ]
  },
  {
   "cell_type": "markdown",
   "metadata": {},
   "source": [
    "# Using Monte Carlo and Uniform Distribution\n",
    "* D~Uniform(6.5, 8.5) %m rotor diameter\n",
    "* L~Uniform (8.5, 10.5) %m rotor axial length\n",
    "* dcu~Uniform (8840, 9040) %copper density density at 25C (kg/m^3)\n",
    "* dfe~Uniform (7880, 8080) %iron density density at 25C (kg/m^3)"
   ]
  },
  {
   "cell_type": "code",
   "execution_count": 27,
   "metadata": {},
   "outputs": [],
   "source": [
    "d_u = np.random.uniform(0.065, 0.085, samples)  # rotor diameter (cm)\n",
    "l_u = np.random.uniform(0.085, 0.105, samples)  # rotor axial length (cm)\n",
    "rho_cu_u = np.random.uniform(8840, 9040, samples)  # copper density density at 25C (kg/m^3)\n",
    "rho_fe_u = np.random.uniform(7880, 8080, samples)  # iron density density at 25C (kg/m^3)\n",
    "weight_p2 = [calculate_weight(d_u[i], l_u[i], rho_cu_u[i], rho_fe_u[i]) for i in range(samples)]\n",
    "success_probabilities.append(prob_success_mc(weight_p2, limit))"
   ]
  },
  {
   "cell_type": "markdown",
   "metadata": {},
   "source": [
    "# Using MVFOSM method"
   ]
  },
  {
   "cell_type": "code",
   "execution_count": 28,
   "metadata": {},
   "outputs": [],
   "source": [
    "# no correlation\n",
    "correlation_matrix_3 = [[1, 0, 0 , 0], [0, 1, 0, 0], [0, 0, 1, 0], [0, 0, 0, 1]]\n",
    "\n",
    "variables = {\"diameter\": (0.075, 0.005),\n",
    "             \"length\": (0.095, 0.005),\n",
    "             \"rho_cu\": (8.94e3, 100),\n",
    "             \"rho_fe\": (7.98e3, 100)}\n",
    "\n",
    "# determine mean of function using variable means\n",
    "function_mu = calculate_weight(variables[\"diameter\"][0], \n",
    "                               variables[\"length\"][0], variables[\"rho_cu\"][0], variables[\"rho_fe\"][0])\n",
    "\n",
    "variable_sigmas = [variables[\"diameter\"][1], variables[\"length\"][1], \n",
    "                   variables[\"rho_cu\"][1], variables[\"rho_fe\"][1]]\n",
    "\n",
    "diameter_output = first_derivative(variables, \"diameter\")\n",
    "length_output = first_derivative(variables, \"length\")\n",
    "cu_output = first_derivative(variables,\"rho_cu\")\n",
    "fe_output = first_derivative(variables, \"rho_fe\")\n",
    "\n",
    "variable_derivatives = [diameter_output, length_output, cu_output, fe_output]\n",
    "\n",
    "sigma = calculate_sigma(variable_sigmas, variable_derivatives, correlation_matrix_3)\n",
    "\n",
    "success_probabilities.append(norm.cdf(22, function_mu, sigma))"
   ]
  },
  {
   "cell_type": "markdown",
   "metadata": {},
   "source": [
    "# Variables with Correlation. \n",
    "How does the correlation change the solution? \n"
   ]
  },
  {
   "cell_type": "code",
   "execution_count": 29,
   "metadata": {},
   "outputs": [],
   "source": [
    "correlation_matrix_4 = [[1, .2, .3, .7], [.2, 1, .5, .6], [.3, .5, 1, .2], [.7, .6, .2, 1]]\n",
    "\n",
    "#same varibles as previous part\n",
    "sigma = calculate_sigma(variable_sigmas, variable_derivatives, correlation_matrix_4)\n",
    "\n",
    "success_probabilities.append(norm.cdf(22, function_mu, sigma))"
   ]
  },
  {
   "cell_type": "markdown",
   "metadata": {},
   "source": [
    "Answers"
   ]
  },
  {
   "cell_type": "code",
   "execution_count": 30,
   "metadata": {},
   "outputs": [
    {
     "name": "stdout",
     "output_type": "stream",
     "text": [
      "The probability of a motor being less than 22kg with the parameters in # 1  is 0.98862\n",
      "The probability of a motor being less than 22kg with the parameters in # 2  is 0.99015\n",
      "The probability of a motor being less than 22kg with the parameters in # 3  is 0.6064653429109432\n",
      "The probability of a motor being less than 22kg with the parameters in # 4  is 0.6052891090555454\n",
      "The correlation matrix in #4 created a 0.0011762338553977791  decrease in probability of meeting design parameters.\n"
     ]
    }
   ],
   "source": [
    "for i, answer in enumerate(success_probabilities):\n",
    "    print(\"The probability of a motor being less than 22kg with the parameters in #\", i+1, \" is\", answer)\n",
    "\n",
    "print('The correlation matrix in #4 created a', (success_probabilities[2]-success_probabilities[3]),\n",
    "      \" decrease in probability of meeting design parameters.\")\n"
   ]
  },
  {
   "cell_type": "code",
   "execution_count": null,
   "metadata": {},
   "outputs": [],
   "source": []
  }
 ],
 "metadata": {
  "kernelspec": {
   "display_name": "Python 3",
   "language": "python",
   "name": "python3"
  },
  "language_info": {
   "codemirror_mode": {
    "name": "ipython",
    "version": 3
   },
   "file_extension": ".py",
   "mimetype": "text/x-python",
   "name": "python",
   "nbconvert_exporter": "python",
   "pygments_lexer": "ipython3",
   "version": "3.7.6"
  }
 },
 "nbformat": 4,
 "nbformat_minor": 4
}
